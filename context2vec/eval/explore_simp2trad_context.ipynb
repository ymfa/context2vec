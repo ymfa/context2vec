{
 "cells": [
  {
   "cell_type": "code",
   "execution_count": 35,
   "metadata": {},
   "outputs": [],
   "source": [
    "import numpy as xp\n",
    "import math"
   ]
  },
  {
   "cell_type": "code",
   "execution_count": 36,
   "metadata": {},
   "outputs": [],
   "source": [
    "def magnitude(v):\n",
    "    return math.sqrt(sum(v[i]*v[i] for i in range(len(v))))\n",
    "\n",
    "def add(u, v):\n",
    "    return [ u[i]+v[i] for i in range(len(u)) ]\n",
    "\n",
    "def sub(u, v):\n",
    "    return [ u[i]-v[i] for i in range(len(u)) ]\n",
    "\n",
    "def dot(u, v):\n",
    "    return sum(u[i]*v[i] for i in range(len(u)))\n",
    "\n",
    "def normalize(v):\n",
    "    vmag = magnitude(v)\n",
    "    return [ v[i]/vmag  for i in range(len(v)) ]"
   ]
  },
  {
   "cell_type": "code",
   "execution_count": 29,
   "metadata": {
    "scrolled": true
   },
   "outputs": [
    {
     "name": "stdout",
     "output_type": "stream",
     "text": [
      "Reading config file: /home/simp2trad/context2vec/data/MODEL-seg-perm.params.1\n",
      "Config:  {'config_path': '/home/simp2trad/context2vec/data/', 'vocab_file': 'WORDS-seg-perm.source.1', 'model_file': 'MODEL-seg-perm.1', 'deep': 'yes', 'drop_ratio': '0.3', 'words_file': 'WORDS-seg-perm.targets.1', 'unit': '300'}\n"
     ]
    }
   ],
   "source": [
    "\n",
    "from context2vec.common.model_reader import ModelReader\n",
    "model_reader = ModelReader('/home/simp2trad/context2vec/data/MODEL-seg-perm.params.1')\n",
    "w = model_reader.w\n",
    "word2index1 = model_reader.word2index1\n",
    "word2index2=model_reader.word2index2\n",
    "index2word = model_reader.index2word1\n",
    "index2word2 = model_reader.index2word2"
   ]
  },
  {
   "cell_type": "code",
   "execution_count": 3,
   "metadata": {},
   "outputs": [],
   "source": [
    "n_result=20"
   ]
  },
  {
   "cell_type": "code",
   "execution_count": 60,
   "metadata": {},
   "outputs": [],
   "source": [
    "context_embed = model_reader.model.context2vec(['醜','陋'], 0)\n",
    "context_v = context_embed / xp.sqrt((context_embed * context_embed).sum())\n",
    "    \n",
    "target_embed = model_reader.w[model_reader.word2index2['丑']]\n",
    "target_v = target_embed / xp.sqrt((target_embed * target_embed).sum())\n"
   ]
  },
  {
   "cell_type": "code",
   "execution_count": 61,
   "metadata": {},
   "outputs": [
    {
     "data": {
      "text/plain": [
       "0.42462575"
      ]
     },
     "execution_count": 61,
     "metadata": {},
     "output_type": "execute_result"
    }
   ],
   "source": [
    "\n",
    "xp.dot(context_v,target_v)"
   ]
  },
  {
   "cell_type": "code",
   "execution_count": 16,
   "metadata": {},
   "outputs": [
    {
     "name": "stdout",
     "output_type": "stream",
     "text": [
      "醜: 0.999999940395\n",
      "緋: 0.832136750221\n",
      "誹: 0.778312444687\n",
      "糗: 0.772475719452\n",
      "詬: 0.771783649921\n",
      "怵: 0.767605125904\n",
      "瞑: 0.767152309418\n",
      "嫉: 0.765147864819\n",
      "嫵: 0.764995515347\n",
      "癩: 0.764595627785\n",
      "惋: 0.760187447071\n",
      "嘔: 0.759519159794\n",
      "懊: 0.759192585945\n",
      "嗔: 0.757779836655\n",
      "侮: 0.757341563702\n",
      "諂: 0.755617499352\n",
      "噁: 0.755437493324\n",
      "鈊: 0.755183637142\n",
      "訃: 0.755087375641\n",
      "嗡: 0.754258394241\n"
     ]
    }
   ],
   "source": [
    "similarity = (w.dot(target_embed)+1.0)/2\n",
    "count = 0\n",
    "for i in (-similarity).argsort():\n",
    "            if xp.isnan(similarity[i]):\n",
    "                continue\n",
    "            print('{0}: {1}'.format(index2word2[i], similarity[i]))\n",
    "            count += 1\n",
    "            if count == n_result:\n",
    "                break"
   ]
  },
  {
   "cell_type": "code",
   "execution_count": 36,
   "metadata": {},
   "outputs": [
    {
     "data": {
      "text/plain": [
       "-0.23983423"
      ]
     },
     "execution_count": 36,
     "metadata": {},
     "output_type": "execute_result"
    }
   ],
   "source": [
    "xp.dot(context_embed,target_embed)"
   ]
  },
  {
   "cell_type": "code",
   "execution_count": 104,
   "metadata": {},
   "outputs": [],
   "source": [
    "import random\n",
    "def sent_permutate(sent):\n",
    "    new_sents=[sent]\n",
    "    itera=len(sent)/5\n",
    "    print (itera)\n",
    "    if itera <2:\n",
    "        return new_sents\n",
    "    else:\n",
    "        \n",
    "        for i in range(itera):\n",
    "\n",
    "            pos=random.randint(0,len(sent))\n",
    "            win=random.randint(5,9)\n",
    "            after=len(sent)-1-pos\n",
    "            if after>=pos:\n",
    "                end=pos+win+1\n",
    "                if end>len(sent):\n",
    "                    end=len(sent)\n",
    "                \n",
    "                new_sents.append(sent[pos:end])\n",
    "            else:\n",
    "                start=pos-win\n",
    "                if start<0:\n",
    "                    start=0\n",
    "                new_sents.append(sent[start:pos])\n",
    "    return new_sents"
   ]
  },
  {
   "cell_type": "code",
   "execution_count": 97,
   "metadata": {},
   "outputs": [
    {
     "data": {
      "text/plain": [
       "1"
      ]
     },
     "execution_count": 97,
     "metadata": {},
     "output_type": "execute_result"
    }
   ],
   "source": [
    "7/5"
   ]
  },
  {
   "cell_type": "code",
   "execution_count": 11,
   "metadata": {},
   "outputs": [
    {
     "name": "stdout",
     "output_type": "stream",
     "text": [
      "省 立 台 中 高 工 林 宏 、\n",
      " 仁 省 立 羅 東 高 工 吳 金 興 、\n",
      " 省 立 泰 山 高 中 鄭 東 辰 、\n"
     ]
    }
   ],
   "source": [
    "import re\n",
    "def sent_seg_small(sent):\n",
    "    sent_list=re.findall(ur'[^、，,；;！。？!?\\n]+(?:[、,;，；！。？!?\\n])*', sent)\n",
    "    return sent_list\n",
    "\n",
    "a=sent_seg_small('省 立 台 中 高 工 林 宏 、 仁 省 立 羅 東 高 工 吳 金 興 、 省 立 泰 山 高 中 鄭 東 辰 、'.decode('utf-8'))\n",
    "for i in a:\n",
    "    print (i)"
   ]
  }
 ],
 "metadata": {
  "kernelspec": {
   "display_name": "Python 2",
   "language": "python",
   "name": "python2"
  },
  "language_info": {
   "codemirror_mode": {
    "name": "ipython",
    "version": 2
   },
   "file_extension": ".py",
   "mimetype": "text/x-python",
   "name": "python",
   "nbconvert_exporter": "python",
   "pygments_lexer": "ipython2",
   "version": "2.7.12"
  }
 },
 "nbformat": 4,
 "nbformat_minor": 2
}
