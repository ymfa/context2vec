{
 "cells": [
  {
   "cell_type": "code",
   "execution_count": 2,
   "metadata": {},
   "outputs": [],
   "source": [
    "import sys\n",
    "import pandas as pd\n",
    "import csv\n",
    "\n",
    "def load_conversion(conversion_f):\n",
    "    conversion={}\n",
    "    \n",
    "    with open(conversion_f) as f:\n",
    "        for line in f:\n",
    "            simp_w,trad_w=line.split('\\t')\n",
    "#             if '(' not in conversion\n",
    "            conversion[simp_w]=trad_w\n",
    "    return conversion\n",
    "import sys\n",
    "\n",
    "def match_conversion(conversion,test_out_f,test_en_f,test_de_f):\n",
    "        fieldnames = ['orig_char', 'gold_char','char_index','orig','gold','orig_line_num']\n",
    "        writer = csv.DictWriter(open(test_out_f,'w'), fieldnames=fieldnames)\n",
    "        writer.writeheader()\n",
    "            \n",
    "        test_de=open(test_de_f).readlines()\n",
    "\n",
    "        with open (test_en_f) as test_en:\n",
    "            \n",
    "            line_num=0\n",
    "            for line in test_en:\n",
    "                trad_ws=''\n",
    "                ws=''\n",
    "                char_is=''\n",
    "                line_nums=''\n",
    "                line=line.strip()\n",
    "                if line_num%10000==0 and line_num>10000:\n",
    "                    print ('.'),\n",
    "                for i,w in enumerate(line.split()):\n",
    "                    if w in conversion:\n",
    "                        trad_line=test_de[line_num].strip()\n",
    "                        trad_w=test_de[line_num].strip().split()[i]\n",
    "                        if trad_w in conversion[w]:\n",
    "                            #store matched results\n",
    "                            trad_ws+=trad_w\n",
    "                            ws+=w\n",
    "                            char_is+='-'+str(i)\n",
    "                            line_nums+='-'+str(line_num)\n",
    "                #output matched results per sentence to csv         \n",
    "                if trad_ws!='':\n",
    "                    writer.writerow({fieldnames[0]:ws, fieldnames[1]:trad_ws,fieldnames[2]:char_is,fieldnames[3]:line.replace(\" \",\"\"),fieldnames[4]:trad_line.replace(\" \", \"\"), fieldnames[5]:line_nums })\n",
    "                line_num+=1"
   ]
  },
  {
   "cell_type": "code",
   "execution_count": null,
   "metadata": {},
   "outputs": [],
   "source": [
    "if __name__=='__main__':\n",
    "    corpus_dir=sys.argv[1]\n",
    "    test_en_f=corpus_dir+'.en.DIR/test_sents'\n",
    "    test_de_f=corpus_dir+'.de.DIR/test_sents'\n",
    "    test_out_f=corpus_dir+'_0.2_test_gold.csv'\n",
    "\n",
    "    conversion_f=sys.argv[2]\n",
    "    conversion=load_conversion(conversion_f)\n",
    "    match_conversion(conversion,test_out_f,test_en_f,test_de_f)\n",
    "\n",
    "\n"
   ]
  }
 ],
 "metadata": {
  "kernelspec": {
   "display_name": "Python 2",
   "language": "python",
   "name": "python2"
  },
  "language_info": {
   "codemirror_mode": {
    "name": "ipython",
    "version": 2
   },
   "file_extension": ".py",
   "mimetype": "text/x-python",
   "name": "python",
   "nbconvert_exporter": "python",
   "pygments_lexer": "ipython2",
   "version": "2.7.12"
  }
 },
 "nbformat": 4,
 "nbformat_minor": 2
}
